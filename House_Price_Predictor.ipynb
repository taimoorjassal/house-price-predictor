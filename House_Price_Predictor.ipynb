{
  "nbformat": 4,
  "nbformat_minor": 0,
  "metadata": {
    "colab": {
      "name": "House Price Predictor.ipynb",
      "provenance": [],
      "collapsed_sections": []
    },
    "kernelspec": {
      "name": "python3",
      "display_name": "Python 3"
    },
    "language_info": {
      "name": "python"
    }
  },
  "cells": [
    {
      "cell_type": "markdown",
      "source": [
        "#Importing required libraries and frameworks"
      ],
      "metadata": {
        "id": "1aCi4M2dW01w"
      }
    },
    {
      "cell_type": "code",
      "source": [
        "import pandas as pd\n",
        "import numpy as np\n",
        "import matplotlib.pyplot as plt\n",
        "from sklearn import tree\n",
        "from sklearn.model_selection import train_test_split\n",
        "from sklearn.tree import DecisionTreeRegressor \n",
        "from sklearn.model_selection import validation_curve\n"
      ],
      "metadata": {
        "id": "G-tyYo6mVAY6"
      },
      "execution_count": 1,
      "outputs": []
    },
    {
      "cell_type": "markdown",
      "source": [
        "# Loading the Property Data"
      ],
      "metadata": {
        "id": "3n6cW4diXD2Y"
      }
    },
    {
      "cell_type": "code",
      "execution_count": 3,
      "metadata": {
        "id": "x5tsrRwVTsjL",
        "colab": {
          "base_uri": "https://localhost:8080/"
        },
        "outputId": "9e6289bd-cb15-4d34-a1de-828161c6525d"
      },
      "outputs": [
        {
          "output_type": "execute_result",
          "data": {
            "text/plain": [
              "(13055, 16)"
            ]
          },
          "metadata": {},
          "execution_count": 3
        }
      ],
      "source": [
        "data = pd.read_csv('Data.csv')\n",
        "data.dropna(inplace = True)\n",
        "\n",
        "data.shape"
      ]
    },
    {
      "cell_type": "code",
      "source": [
        "data['location'] = data['location'].apply(lambda x: x.strip())\n",
        "location_stats = data.groupby('location')['location'].agg('count').sort_values(ascending=False)\n",
        "\n",
        "location_stats.head(20)"
      ],
      "metadata": {
        "colab": {
          "base_uri": "https://localhost:8080/"
        },
        "id": "ZDtFGRpgKqZM",
        "outputId": "09420e34-5948-4287-b1f4-13e04874cf0e"
      },
      "execution_count": 4,
      "outputs": [
        {
          "output_type": "execute_result",
          "data": {
            "text/plain": [
              "location\n",
              "DHA Defence           1406\n",
              "G-13                   998\n",
              "Bahria Town            853\n",
              "Ghauri Town            613\n",
              "G-11                   613\n",
              "E-11                   596\n",
              "G-15                   519\n",
              "I-8                    443\n",
              "Gulberg                415\n",
              "Soan Garden            385\n",
              "F-11                   382\n",
              "B-17                   364\n",
              "I-10                   330\n",
              "H-13                   329\n",
              "CBR Town               262\n",
              "D-12                   255\n",
              "Bani Gala              253\n",
              "G-9                    245\n",
              "PWD Housing Scheme     219\n",
              "G-10                   215\n",
              "Name: location, dtype: int64"
            ]
          },
          "metadata": {},
          "execution_count": 4
        }
      ]
    },
    {
      "cell_type": "markdown",
      "source": [
        "##Some Graphs to better understand the data"
      ],
      "metadata": {
        "id": "3iTKi9nOKwRa"
      }
    },
    {
      "cell_type": "markdown",
      "source": [
        "Graph of Latitude against Longitutde helps us roughly visualize the locations of houses in data"
      ],
      "metadata": {
        "id": "LGEYbjL0zI4m"
      }
    },
    {
      "cell_type": "code",
      "source": [
        "plt.scatter(x=data['latitude'], y=data['longitude'])\n",
        "plt.ylim(ymin=72.6,ymax=73.5)\n",
        "plt.xlim(xmin=33.4,xmax=33.85)\n",
        "plt.xlabel(\"Latitude\")\n",
        "plt.ylabel(\"Longitude\")\n",
        "plt.show()"
      ],
      "metadata": {
        "colab": {
          "base_uri": "https://localhost:8080/",
          "height": 279
        },
        "id": "lYUNeSWkpCHi",
        "outputId": "04015bd1-09eb-47a9-cd69-5bee2c019c8f"
      },
      "execution_count": 5,
      "outputs": [
        {
          "output_type": "display_data",
          "data": {
            "text/plain": [
              "<Figure size 432x288 with 1 Axes>"
            ],
            "image/png": "[encoded data removed]"
          },
          "metadata": {
            "needs_background": "light"
          }
        }
      ]
    },
    {
      "cell_type": "markdown",
      "source": [
        "The following graph shows a bar graph of most common locations in our data"
      ],
      "metadata": {
        "id": "REvpzL2MzE9p"
      }
    },
    {
      "cell_type": "code",
      "source": [
        "fig, ax = plt.subplots(figsize=(15,10))\n",
        "array = list(range(0,20))\n",
        "plt.bar(array,location_stats[:20])\n",
        "plt.xlabel(\"Location\")\n",
        "plt.ylabel(\"Instances\")\n",
        "plt.show()"
      ],
      "metadata": {
        "id": "yADjznUuKbcs",
        "colab": {
          "base_uri": "https://localhost:8080/",
          "height": 606
        },
        "outputId": "669e34f6-a1b4-43c6-dc03-1132bea79673"
      },
      "execution_count": 6,
      "outputs": [
        {
          "output_type": "display_data",
          "data": {
            "text/plain": [
              "<Figure size 1080x720 with 1 Axes>"
            ],
            "image/png": "[encoded data removed]"
          },
          "metadata": {
            "needs_background": "light"
          }
        }
      ]
    },
    {
      "cell_type": "markdown",
      "source": [
        "#Data Processing"
      ],
      "metadata": {
        "id": "y-1IK0PhXQJF"
      }
    },
    {
      "cell_type": "code",
      "source": [
        "# Dropping all the unnecessary columns from the table\n",
        "data = data.drop(['property_id', 'location_id','page_url', 'city', 'latitude', 'longitude', 'area', 'purpose', 'Area Type', 'Area Category'], axis = 1)\n",
        "data.head()"
      ],
      "metadata": {
        "id": "1e21HvXvpBHi",
        "colab": {
          "base_uri": "https://localhost:8080/",
          "height": 206
        },
        "outputId": "f67ab0e4-b1f0-4c3f-f110-809f3f9f2c77"
      },
      "execution_count": 7,
      "outputs": [
        {
          "output_type": "execute_result",
          "data": {
            "text/plain": [
              "  property_type       price     location  baths  bedrooms  Area Size\n",
              "0          Flat  10000000.0         G-10    2.0       2.0        4.0\n",
              "1          Flat   6900000.0         E-11    3.0       3.0        5.6\n",
              "2         House  16500000.0         G-15    6.0       5.0        8.0\n",
              "4         House   7000000.0  DHA Defence    3.0       3.0        8.0\n",
              "7          Flat   7800000.0         E-11    2.0       2.0        6.2"
            ],
            "text/html": [
              "\n",
              "  <div id=\"df-61950dfb-2ce5-404f-ad95-93160109f411\">\n",
              "    <div class=\"colab-df-container\">\n",
              "      <div>\n",
              "<style scoped>\n",
              "    .dataframe tbody tr th:only-of-type {\n",
              "        vertical-align: middle;\n",
              "    }\n",
              "\n",
              "    .dataframe tbody tr th {\n",
              "        vertical-align: top;\n",
              "    }\n",
              "\n",
              "    .dataframe thead th {\n",
              "        text-align: right;\n",
              "    }\n",
              "</style>\n",
              "<table border=\"1\" class=\"dataframe\">\n",
              "  <thead>\n",
              "    <tr style=\"text-align: right;\">\n",
              "      <th></th>\n",
              "      <th>property_type</th>\n",
              "      <th>price</th>\n",
              "      <th>location</th>\n",
              "      <th>baths</th>\n",
              "      <th>bedrooms</th>\n",
              "      <th>Area Size</th>\n",
              "    </tr>\n",
              "  </thead>\n",
              "  <tbody>\n",
              "    <tr>\n",
              "      <th>0</th>\n",
              "      <td>Flat</td>\n",
              "      <td>10000000.0</td>\n",
              "      <td>G-10</td>\n",
              "      <td>2.0</td>\n",
              "      <td>2.0</td>\n",
              "      <td>4.0</td>\n",
              "    </tr>\n",
              "    <tr>\n",
              "      <th>1</th>\n",
              "      <td>Flat</td>\n",
              "      <td>6900000.0</td>\n",
              "      <td>E-11</td>\n",
              "      <td>3.0</td>\n",
              "      <td>3.0</td>\n",
              "      <td>5.6</td>\n",
              "    </tr>\n",
              "    <tr>\n",
              "      <th>2</th>\n",
              "      <td>House</td>\n",
              "      <td>16500000.0</td>\n",
              "      <td>G-15</td>\n",
              "      <td>6.0</td>\n",
              "      <td>5.0</td>\n",
              "      <td>8.0</td>\n",
              "    </tr>\n",
              "    <tr>\n",
              "      <th>4</th>\n",
              "      <td>House</td>\n",
              "      <td>7000000.0</td>\n",
              "      <td>DHA Defence</td>\n",
              "      <td>3.0</td>\n",
              "      <td>3.0</td>\n",
              "      <td>8.0</td>\n",
              "    </tr>\n",
              "    <tr>\n",
              "      <th>7</th>\n",
              "      <td>Flat</td>\n",
              "      <td>7800000.0</td>\n",
              "      <td>E-11</td>\n",
              "      <td>2.0</td>\n",
              "      <td>2.0</td>\n",
              "      <td>6.2</td>\n",
              "    </tr>\n",
              "  </tbody>\n",
              "</table>\n",
              "</div>\n",
              "      <button class=\"colab-df-convert\" onclick=\"convertToInteractive('df-61950dfb-2ce5-404f-ad95-93160109f411')\"\n",
              "              title=\"Convert this dataframe to an interactive table.\"\n",
              "              style=\"display:none;\">\n",
              "        \n",
              "  <svg xmlns=\"http://www.w3.org/2000/svg\" height=\"24px\"viewBox=\"0 0 24 24\"\n",
              "       width=\"24px\">\n",
              "    <path d=\"M0 0h24v24H0V0z\" fill=\"none\"/>\n",
              "    <path d=\"M18.56 5.44l.94 2.06.94-2.06 2.06-.94-2.06-.94-.94-2.06-.94 2.06-2.06.94zm-11 1L8.5 8.5l.94-2.06 2.06-.94-2.06-.94L8.5 2.5l-.94 2.06-2.06.94zm10 10l.94 2.06.94-2.06 2.06-.94-2.06-.94-.94-2.06-.94 2.06-2.06.94z\"/><path d=\"M17.41 7.96l-1.37-1.37c-.4-.4-.92-.59-1.43-.59-.52 0-1.04.2-1.43.59L10.3 9.45l-7.72 7.72c-.78.78-.78 2.05 0 2.83L4 21.41c.39.39.9.59 1.41.59.51 0 1.02-.2 1.41-.59l7.78-7.78 2.81-2.81c.8-.78.8-2.07 0-2.86zM5.41 20L4 18.59l7.72-7.72 1.47 1.35L5.41 20z\"/>\n",
              "  </svg>\n",
              "      </button>\n",
              "      \n",
              "  <style>\n",
              "    .colab-df-container {\n",
              "      display:flex;\n",
              "      flex-wrap:wrap;\n",
              "      gap: 12px;\n",
              "    }\n",
              "\n",
              "    .colab-df-convert {\n",
              "      background-color: #E8F0FE;\n",
              "      border: none;\n",
              "      border-radius: 50%;\n",
              "      cursor: pointer;\n",
              "      display: none;\n",
              "      fill: #1967D2;\n",
              "      height: 32px;\n",
              "      padding: 0 0 0 0;\n",
              "      width: 32px;\n",
              "    }\n",
              "\n",
              "    .colab-df-convert:hover {\n",
              "      background-color: #E2EBFA;\n",
              "      box-shadow: 0px 1px 2px rgba(60, 64, 67, 0.3), 0px 1px 3px 1px rgba(60, 64, 67, 0.15);\n",
              "      fill: #174EA6;\n",
              "    }\n",
              "\n",
              "    [theme=dark] .colab-df-convert {\n",
              "      background-color: #3B4455;\n",
              "      fill: #D2E3FC;\n",
              "    }\n",
              "\n",
              "    [theme=dark] .colab-df-convert:hover {\n",
              "      background-color: #434B5C;\n",
              "      box-shadow: 0px 1px 3px 1px rgba(0, 0, 0, 0.15);\n",
              "      filter: drop-shadow(0px 1px 2px rgba(0, 0, 0, 0.3));\n",
              "      fill: #FFFFFF;\n",
              "    }\n",
              "  </style>\n",
              "\n",
              "      <script>\n",
              "        const buttonEl =\n",
              "          document.querySelector('#df-61950dfb-2ce5-404f-ad95-93160109f411 button.colab-df-convert');\n",
              "        buttonEl.style.display =\n",
              "          google.colab.kernel.accessAllowed ? 'block' : 'none';\n",
              "\n",
              "        async function convertToInteractive(key) {\n",
              "          const element = document.querySelector('#df-61950dfb-2ce5-404f-ad95-93160109f411');\n",
              "          const dataTable =\n",
              "            await google.colab.kernel.invokeFunction('convertToInteractive',\n",
              "                                                     [key], {});\n",
              "          if (!dataTable) return;\n",
              "\n",
              "          const docLinkHtml = 'Like what you see? Visit the ' +\n",
              "            '<a target=\"_blank\" href=https://colab.research.google.com/notebooks/data_table.ipynb>data table notebook</a>'\n",
              "            + ' to learn more about interactive tables.';\n",
              "          element.innerHTML = '';\n",
              "          dataTable['output_type'] = 'display_data';\n",
              "          await google.colab.output.renderOutput(dataTable, element);\n",
              "          const docLink = document.createElement('div');\n",
              "          docLink.innerHTML = docLinkHtml;\n",
              "          element.appendChild(docLink);\n",
              "        }\n",
              "      </script>\n",
              "    </div>\n",
              "  </div>\n",
              "  "
            ]
          },
          "metadata": {},
          "execution_count": 7
        }
      ]
    },
    {
      "cell_type": "markdown",
      "source": [
        "*What we can Observe?*\n",
        "\n",
        "---\n",
        "\n",
        "\n",
        "As we can see from the structure of data. There are 5 features which we will use for training our model and predict the expected price of the house."
      ],
      "metadata": {
        "id": "5A4ygpJVXiwh"
      }
    },
    {
      "cell_type": "markdown",
      "source": [
        "\n",
        "\n",
        "*   The following code cell checks and see which locations have less than or equal to 10 instances. Then it assigns them a new value which is 'others'. This helps us merge houses from areas which we do not have enough data for.\n",
        "\n",
        "\n"
      ],
      "metadata": {
        "id": "n8NWj_SXpfAs"
      }
    },
    {
      "cell_type": "code",
      "source": [
        "locations_less_than_10 = location_stats[location_stats <= 10]\n",
        "data['location'] = data['location'].apply(lambda x:'others' if x in locations_less_than_10 else x)\n"
      ],
      "metadata": {
        "id": "cDOE_2A8-GRd"
      },
      "execution_count": 8,
      "outputs": []
    },
    {
      "cell_type": "markdown",
      "source": [
        "\n",
        "\n",
        "*   We then drop the rows which have location=='others'\n",
        "\n",
        "*   This does reduce some testing size however, we now have cleaner data with less outliers.\n",
        "\n",
        "\n",
        "\n",
        "\n",
        "\n"
      ],
      "metadata": {
        "id": "bBmqzOLlr7py"
      }
    },
    {
      "cell_type": "code",
      "source": [
        "data.drop(data[data['location'] =='others'].index, inplace = True)\n",
        "\n",
        "data.shape"
      ],
      "metadata": {
        "id": "xAROL-SEJD7a",
        "colab": {
          "base_uri": "https://localhost:8080/"
        },
        "outputId": "b0c1e4ac-be97-4f92-b810-ce234cbe08ba"
      },
      "execution_count": 9,
      "outputs": [
        {
          "output_type": "execute_result",
          "data": {
            "text/plain": [
              "(12685, 6)"
            ]
          },
          "metadata": {},
          "execution_count": 9
        }
      ]
    },
    {
      "cell_type": "code",
      "source": [
        "# Printing shape before 1 hot encoding\n",
        "data.shape"
      ],
      "metadata": {
        "id": "I-Kyl3A7uJO9",
        "colab": {
          "base_uri": "https://localhost:8080/"
        },
        "outputId": "6c6afb81-8b05-4a70-f635-147486ff51df"
      },
      "execution_count": 10,
      "outputs": [
        {
          "output_type": "execute_result",
          "data": {
            "text/plain": [
              "(12685, 6)"
            ]
          },
          "metadata": {},
          "execution_count": 10
        }
      ]
    },
    {
      "cell_type": "markdown",
      "source": [
        "\n",
        "\n",
        "\n",
        "\n",
        "*   Next code cell helps change the string values into numbers\n",
        "\n",
        "\n",
        "*   This makes new columns that are the same as the number of unique values of strings.\n",
        "*   This then assigns 1 or 0 to the appropriate column.\n",
        "*   This changes the strings in columns: **\"property_type\"** and **\"location\"**.\n",
        "\n",
        "\n",
        "> For Example:\n",
        "\n",
        "\n",
        "![Screenshot 2022-05-28 222757.png](data:image/png;base64,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)\n",
        "\n",
        "\n",
        "\n",
        "\n",
        "\n",
        "\n"
      ],
      "metadata": {
        "id": "xbUZve4KsQhY"
      }
    },
    {
      "cell_type": "code",
      "source": [
        "  data  = pd.get_dummies(data=data, drop_first=True)\n",
        "labels = data['price']\n",
        "data = data.drop('price', axis=1)\n"
      ],
      "metadata": {
        "id": "Fh3j1z0mrYSu"
      },
      "execution_count": null,
      "outputs": []
    },
    {
      "cell_type": "markdown",
      "source": [
        "\n",
        "\n",
        "*   We can notice that training parameters increase from 6 to 94\n",
        "*   This however does not bring up computational cost much as all columns are one hot encoded and the increase in accuracy is substantial.\n",
        "\n"
      ],
      "metadata": {
        "id": "QT1QCVV7uePn"
      }
    },
    {
      "cell_type": "code",
      "source": [
        "# Printing shape after one hot encoding\n",
        "data.shape"
      ],
      "metadata": {
        "id": "NMGJveOauDYZ",
        "colab": {
          "base_uri": "https://localhost:8080/"
        },
        "outputId": "92137118-1058-40a6-a196-59291834b581"
      },
      "execution_count": null,
      "outputs": [
        {
          "output_type": "execute_result",
          "data": {
            "text/plain": [
              "(12685, 94)"
            ]
          },
          "metadata": {},
          "execution_count": 254
        }
      ]
    },
    {
      "cell_type": "markdown",
      "source": [
        "# The Model\n",
        "\n",
        "\n",
        "---\n",
        "\n",
        "\n",
        "\n",
        "> *Decision Tree Regressor*\n",
        "\n",
        "We used Decision Tree Regressor for this problem. This model performed better than normal regression. Using neural networks and tuning it accordingly would have given us better accuracy however the computational cost increases if we follow that approach. In our opinion Decision Tree provides the perfect mix between **high accuracy** and **low costs**.\n",
        "\n",
        "\n",
        "\n",
        "> *Linear Regression*\n",
        "\n",
        "Linear Regression is a less costly algorithm and as we will see later in the notebook it performs quite well. We have implemented Linear Regression too to compare the 2 approaches\n",
        "\n",
        "\n",
        "\n",
        "\n",
        "\n"
      ],
      "metadata": {
        "id": "1S1G23wsuwPh"
      }
    },
    {
      "cell_type": "markdown",
      "source": [
        "## Splitting the Data\n",
        "We split the data into train and test. The split is 80 to 20 for Train and Test respectively. "
      ],
      "metadata": {
        "id": "zkjB3FrlwQC-"
      }
    },
    {
      "cell_type": "code",
      "source": [
        "X_train, X_test, y_train, y_test = train_test_split(data,labels, test_size = 0.2, random_state = 42)\n"
      ],
      "metadata": {
        "id": "Ob74p___uc9Q"
      },
      "execution_count": null,
      "outputs": []
    },
    {
      "cell_type": "markdown",
      "source": [
        "\n",
        "\n",
        "**Criterion:** We have used fiedman_mse which perfromed best compared to other criterion available. i.e. [squared_error, friedman_mse, absolute_error, poisson]\n",
        "**Splitter:** We have used the best random split at each node.\n",
        "\n",
        "\n",
        "\n",
        "\n"
      ],
      "metadata": {
        "id": "nvXEhPbRvgAd"
      }
    },
    {
      "cell_type": "markdown",
      "source": [
        "## Decision Tree Regressor"
      ],
      "metadata": {
        "id": "-07MWqpc56me"
      }
    },
    {
      "cell_type": "code",
      "source": [
        "decisionTree = DecisionTreeRegressor(criterion='friedman_mse', splitter='random', random_state=42)\n",
        "# Ftting the model on Training data and labels\n",
        "decisionTree.fit(X_train, y_train)"
      ],
      "metadata": {
        "id": "3pOL0DyfWoae",
        "colab": {
          "base_uri": "https://localhost:8080/"
        },
        "outputId": "8a032081-a064-40ea-8c7e-e4ca630b2115"
      },
      "execution_count": null,
      "outputs": [
        {
          "output_type": "execute_result",
          "data": {
            "text/plain": [
              "DecisionTreeRegressor(criterion='friedman_mse', random_state=42,\n",
              "                      splitter='random')"
            ]
          },
          "metadata": {},
          "execution_count": 256
        }
      ]
    },
    {
      "cell_type": "markdown",
      "source": [
        "## Making a Linear Regression Model for comparison"
      ],
      "metadata": {
        "id": "hGm5Gfb40zXj"
      }
    },
    {
      "cell_type": "code",
      "source": [
        "from sklearn.linear_model import LinearRegression\n",
        "\n",
        "regression = LinearRegression(fit_intercept=True)\n",
        "regression.fit(X_train, y_train)\n"
      ],
      "metadata": {
        "colab": {
          "base_uri": "https://localhost:8080/"
        },
        "id": "CG8j2nmv08U3",
        "outputId": "2e1bf3c7-ee31-4064-98d3-eabdf63cd2c1"
      },
      "execution_count": null,
      "outputs": [
        {
          "output_type": "execute_result",
          "data": {
            "text/plain": [
              "LinearRegression()"
            ]
          },
          "metadata": {},
          "execution_count": 271
        }
      ]
    },
    {
      "cell_type": "markdown",
      "source": [
        "# Evaluating our Model\n",
        "\n"
      ],
      "metadata": {
        "id": "XwzNuD2zyLaJ"
      }
    },
    {
      "cell_type": "code",
      "source": [
        "# Now we use our model to predict prices for test set.\n",
        "# We then compare these prices to the actual test prices and score our model.\n",
        "y_preds_tree = decisionTree.predict(X_test) \n",
        "y_preds_linear = regression.predict(X_test)"
      ],
      "metadata": {
        "id": "FltO3By734Ge"
      },
      "execution_count": null,
      "outputs": []
    },
    {
      "cell_type": "markdown",
      "source": [
        "\n",
        "\n",
        "> *Scoring Decision Tree*\n",
        "\n",
        "* We used the default scoring function to score our model. It uses R squared score.\n",
        "The closer the score is to 1 the more similar are the values."
      ],
      "metadata": {
        "id": "SsFflF-dxZcx"
      }
    },
    {
      "cell_type": "code",
      "source": [
        "score = decisionTree.score(X_test, y_test)"
      ],
      "metadata": {
        "id": "eTgvMcemyElp",
        "colab": {
          "base_uri": "https://localhost:8080/"
        },
        "outputId": "fddc5fb7-2880-451f-91db-dc930918a47e"
      },
      "execution_count": null,
      "outputs": [
        {
          "output_type": "stream",
          "name": "stdout",
          "text": [
            "0.884476969762172\n"
          ]
        }
      ]
    },
    {
      "cell_type": "markdown",
      "source": [
        ">*Scoring Regression Model*"
      ],
      "metadata": {
        "id": "WZGh4ML31IHv"
      }
    },
    {
      "cell_type": "code",
      "source": [
        "score2 = regression.score(X_test, y_test)"
      ],
      "metadata": {
        "id": "HmTmcOgI0eb_"
      },
      "execution_count": null,
      "outputs": []
    },
    {
      "cell_type": "markdown",
      "source": [
        "\n",
        "\n",
        "> **Comparison of Regression and Decision Tree **\n",
        "\n",
        "\n",
        "\n",
        "*   As we can see there is not much large of a difference between Regression model and Decision Tree Model.\n",
        "*   Regression Model does perform well as the data is cleaned and outliers are removed\n",
        "\n",
        "\n",
        "\n"
      ],
      "metadata": {
        "id": "38DL89_c4KJq"
      }
    },
    {
      "cell_type": "code",
      "source": [
        "models = [\"Linear Regression\", \"Decision Tree Regressor\"]\n",
        "scores = [score2, score]\n",
        "fig, ax = plt.subplots(figsize=(10,10))\n",
        "plt.bar(models,scores)\n",
        "plt.ylim(ymin=0.4,ymax=1)\n",
        "plt.show()"
      ],
      "metadata": {
        "colab": {
          "base_uri": "https://localhost:8080/",
          "height": 596
        },
        "id": "LlA3IwBu16sJ",
        "outputId": "d8190e2c-8f15-4624-af79-b791bbacd58a"
      },
      "execution_count": null,
      "outputs": [
        {
          "output_type": "display_data",
          "data": {
            "text/plain": [
              "<Figure size 720x720 with 1 Axes>"
            ],
            "image/png": "[encoded data removed]"
          },
          "metadata": {
            "needs_background": "light"
          }
        }
      ]
    },
    {
      "cell_type": "markdown",
      "source": [
        "\n",
        "\n",
        "\n",
        "\n",
        "\n",
        "> Scatter Plot of Predictions and Actual values\n",
        "\n",
        "\n",
        "The following graph plot the predictions from the model against the actual prices.\n",
        "If the line is linear and slim then the model is performing the best."
      ],
      "metadata": {
        "id": "AEOn0etdyI6B"
      }
    },
    {
      "cell_type": "markdown",
      "source": [
        "**Decision Tree Regressor**"
      ],
      "metadata": {
        "id": "Xky4OC2k4460"
      }
    },
    {
      "cell_type": "code",
      "source": [
        "\n",
        "plt.scatter(y_preds_tree, y_test, c =\"purple\")\n",
        "# Limiting the scale and making it similar for x and y axes for better graphing.\n",
        "plt.xlim(xmin=0,xmax=7e7)\n",
        "plt.ylim(ymin=0,ymax=7e7)\n",
        "plt.show()\n",
        "         "
      ],
      "metadata": {
        "id": "RiP1LlSjZGRV",
        "colab": {
          "base_uri": "https://localhost:8080/",
          "height": 289
        },
        "outputId": "a6c99182-ffe3-45bf-cdb4-3d64e1d97236"
      },
      "execution_count": null,
      "outputs": [
        {
          "output_type": "display_data",
          "data": {
            "text/plain": [
              "<Figure size 432x288 with 1 Axes>"
            ],
            "image/png": "[encoded data removed]"
          },
          "metadata": {
            "needs_background": "light"
          }
        }
      ]
    },
    {
      "cell_type": "markdown",
      "source": [
        "**Linear Regression**"
      ],
      "metadata": {
        "id": "3crSJCuWlb1J"
      }
    },
    {
      "cell_type": "code",
      "source": [
        "plt.scatter(y_preds_linear, y_test, c =\"green\")\n",
        "# Limiting the scale and making it similar for x and y axes for better graphing.\n",
        "plt.xlim(xmin=0,xmax=7e7)\n",
        "plt.ylim(ymin=0,ymax=7e7)\n",
        "plt.show()"
      ],
      "metadata": {
        "id": "I7-jS9uWSuRG",
        "colab": {
          "base_uri": "https://localhost:8080/",
          "height": 289
        },
        "outputId": "3d1f6942-c078-4b46-b316-cd2fa200a091"
      },
      "execution_count": null,
      "outputs": [
        {
          "output_type": "display_data",
          "data": {
            "text/plain": [
              "<Figure size 432x288 with 1 Axes>"
            ],
            "image/png": "[encoded data removed]"
          },
          "metadata": {
            "needs_background": "light"
          }
        }
      ]
    },
    {
      "cell_type": "markdown",
      "source": [
        "If we look closely we can see the graph of **Decision Tree** is narrower and follows are more linear trend compared to graph of **Linear Regression**"
      ],
      "metadata": {
        "id": "7J8ZyNq35anp"
      }
    },
    {
      "cell_type": "code",
      "source": [
        ""
      ],
      "metadata": {
        "id": "qVZ_dm715rgA"
      },
      "execution_count": null,
      "outputs": []
    }
  ]
}